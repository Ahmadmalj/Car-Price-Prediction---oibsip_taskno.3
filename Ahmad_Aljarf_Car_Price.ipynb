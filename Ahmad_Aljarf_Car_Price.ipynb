{
  "cells": [
    {
      "cell_type": "markdown",
      "metadata": {
        "id": "93YQFsnM_U9b"
      },
      "source": [
        "Name: Ahmad Aljarf\n",
        "\n",
        "Oasis Infobyte\n",
        "\n",
        "Batch: February 2023\n",
        "\n",
        "Task 3: CAR PRICE PREDICTION WITH MACHINE LEARNING"
      ]
    },
    {
      "cell_type": "markdown",
      "metadata": {
        "id": "ZG5Q5sZeAamg"
      },
      "source": [
        "Importing the required libraries:"
      ]
    },
    {
      "cell_type": "code",
      "execution_count": 32,
      "metadata": {
        "colab": {
          "base_uri": "https://localhost:8080/",
          "height": 574
        },
        "id": "g0KLtARNHm_P",
        "outputId": "43637f12-1e16-4c3f-b17a-e839365376c3"
      },
      "outputs": [
        {
          "data": {
            "text/html": [
              "\n",
              "  <div id=\"df-f57e5359-33bc-45b0-be3e-3e332df2f911\">\n",
              "    <div class=\"colab-df-container\">\n",
              "      <div>\n",
              "<style scoped>\n",
              "    .dataframe tbody tr th:only-of-type {\n",
              "        vertical-align: middle;\n",
              "    }\n",
              "\n",
              "    .dataframe tbody tr th {\n",
              "        vertical-align: top;\n",
              "    }\n",
              "\n",
              "    .dataframe thead th {\n",
              "        text-align: right;\n",
              "    }\n",
              "</style>\n",
              "<table border=\"1\" class=\"dataframe\">\n",
              "  <thead>\n",
              "    <tr style=\"text-align: right;\">\n",
              "      <th></th>\n",
              "      <th>car_ID</th>\n",
              "      <th>symboling</th>\n",
              "      <th>CarName</th>\n",
              "      <th>fueltype</th>\n",
              "      <th>aspiration</th>\n",
              "      <th>doornumber</th>\n",
              "      <th>carbody</th>\n",
              "      <th>drivewheel</th>\n",
              "      <th>enginelocation</th>\n",
              "      <th>wheelbase</th>\n",
              "      <th>...</th>\n",
              "      <th>enginesize</th>\n",
              "      <th>fuelsystem</th>\n",
              "      <th>boreratio</th>\n",
              "      <th>stroke</th>\n",
              "      <th>compressionratio</th>\n",
              "      <th>horsepower</th>\n",
              "      <th>peakrpm</th>\n",
              "      <th>citympg</th>\n",
              "      <th>highwaympg</th>\n",
              "      <th>price</th>\n",
              "    </tr>\n",
              "  </thead>\n",
              "  <tbody>\n",
              "    <tr>\n",
              "      <th>0</th>\n",
              "      <td>1</td>\n",
              "      <td>3</td>\n",
              "      <td>alfa-romero giulia</td>\n",
              "      <td>gas</td>\n",
              "      <td>std</td>\n",
              "      <td>two</td>\n",
              "      <td>convertible</td>\n",
              "      <td>rwd</td>\n",
              "      <td>front</td>\n",
              "      <td>88.6</td>\n",
              "      <td>...</td>\n",
              "      <td>130</td>\n",
              "      <td>mpfi</td>\n",
              "      <td>3.47</td>\n",
              "      <td>2.68</td>\n",
              "      <td>9.0</td>\n",
              "      <td>111</td>\n",
              "      <td>5000</td>\n",
              "      <td>21</td>\n",
              "      <td>27</td>\n",
              "      <td>13495.0</td>\n",
              "    </tr>\n",
              "    <tr>\n",
              "      <th>1</th>\n",
              "      <td>2</td>\n",
              "      <td>3</td>\n",
              "      <td>alfa-romero stelvio</td>\n",
              "      <td>gas</td>\n",
              "      <td>std</td>\n",
              "      <td>two</td>\n",
              "      <td>convertible</td>\n",
              "      <td>rwd</td>\n",
              "      <td>front</td>\n",
              "      <td>88.6</td>\n",
              "      <td>...</td>\n",
              "      <td>130</td>\n",
              "      <td>mpfi</td>\n",
              "      <td>3.47</td>\n",
              "      <td>2.68</td>\n",
              "      <td>9.0</td>\n",
              "      <td>111</td>\n",
              "      <td>5000</td>\n",
              "      <td>21</td>\n",
              "      <td>27</td>\n",
              "      <td>16500.0</td>\n",
              "    </tr>\n",
              "    <tr>\n",
              "      <th>2</th>\n",
              "      <td>3</td>\n",
              "      <td>1</td>\n",
              "      <td>alfa-romero Quadrifoglio</td>\n",
              "      <td>gas</td>\n",
              "      <td>std</td>\n",
              "      <td>two</td>\n",
              "      <td>hatchback</td>\n",
              "      <td>rwd</td>\n",
              "      <td>front</td>\n",
              "      <td>94.5</td>\n",
              "      <td>...</td>\n",
              "      <td>152</td>\n",
              "      <td>mpfi</td>\n",
              "      <td>2.68</td>\n",
              "      <td>3.47</td>\n",
              "      <td>9.0</td>\n",
              "      <td>154</td>\n",
              "      <td>5000</td>\n",
              "      <td>19</td>\n",
              "      <td>26</td>\n",
              "      <td>16500.0</td>\n",
              "    </tr>\n",
              "    <tr>\n",
              "      <th>3</th>\n",
              "      <td>4</td>\n",
              "      <td>2</td>\n",
              "      <td>audi 100 ls</td>\n",
              "      <td>gas</td>\n",
              "      <td>std</td>\n",
              "      <td>four</td>\n",
              "      <td>sedan</td>\n",
              "      <td>fwd</td>\n",
              "      <td>front</td>\n",
              "      <td>99.8</td>\n",
              "      <td>...</td>\n",
              "      <td>109</td>\n",
              "      <td>mpfi</td>\n",
              "      <td>3.19</td>\n",
              "      <td>3.40</td>\n",
              "      <td>10.0</td>\n",
              "      <td>102</td>\n",
              "      <td>5500</td>\n",
              "      <td>24</td>\n",
              "      <td>30</td>\n",
              "      <td>13950.0</td>\n",
              "    </tr>\n",
              "    <tr>\n",
              "      <th>4</th>\n",
              "      <td>5</td>\n",
              "      <td>2</td>\n",
              "      <td>audi 100ls</td>\n",
              "      <td>gas</td>\n",
              "      <td>std</td>\n",
              "      <td>four</td>\n",
              "      <td>sedan</td>\n",
              "      <td>4wd</td>\n",
              "      <td>front</td>\n",
              "      <td>99.4</td>\n",
              "      <td>...</td>\n",
              "      <td>136</td>\n",
              "      <td>mpfi</td>\n",
              "      <td>3.19</td>\n",
              "      <td>3.40</td>\n",
              "      <td>8.0</td>\n",
              "      <td>115</td>\n",
              "      <td>5500</td>\n",
              "      <td>18</td>\n",
              "      <td>22</td>\n",
              "      <td>17450.0</td>\n",
              "    </tr>\n",
              "    <tr>\n",
              "      <th>...</th>\n",
              "      <td>...</td>\n",
              "      <td>...</td>\n",
              "      <td>...</td>\n",
              "      <td>...</td>\n",
              "      <td>...</td>\n",
              "      <td>...</td>\n",
              "      <td>...</td>\n",
              "      <td>...</td>\n",
              "      <td>...</td>\n",
              "      <td>...</td>\n",
              "      <td>...</td>\n",
              "      <td>...</td>\n",
              "      <td>...</td>\n",
              "      <td>...</td>\n",
              "      <td>...</td>\n",
              "      <td>...</td>\n",
              "      <td>...</td>\n",
              "      <td>...</td>\n",
              "      <td>...</td>\n",
              "      <td>...</td>\n",
              "      <td>...</td>\n",
              "    </tr>\n",
              "    <tr>\n",
              "      <th>200</th>\n",
              "      <td>201</td>\n",
              "      <td>-1</td>\n",
              "      <td>volvo 145e (sw)</td>\n",
              "      <td>gas</td>\n",
              "      <td>std</td>\n",
              "      <td>four</td>\n",
              "      <td>sedan</td>\n",
              "      <td>rwd</td>\n",
              "      <td>front</td>\n",
              "      <td>109.1</td>\n",
              "      <td>...</td>\n",
              "      <td>141</td>\n",
              "      <td>mpfi</td>\n",
              "      <td>3.78</td>\n",
              "      <td>3.15</td>\n",
              "      <td>9.5</td>\n",
              "      <td>114</td>\n",
              "      <td>5400</td>\n",
              "      <td>23</td>\n",
              "      <td>28</td>\n",
              "      <td>16845.0</td>\n",
              "    </tr>\n",
              "    <tr>\n",
              "      <th>201</th>\n",
              "      <td>202</td>\n",
              "      <td>-1</td>\n",
              "      <td>volvo 144ea</td>\n",
              "      <td>gas</td>\n",
              "      <td>turbo</td>\n",
              "      <td>four</td>\n",
              "      <td>sedan</td>\n",
              "      <td>rwd</td>\n",
              "      <td>front</td>\n",
              "      <td>109.1</td>\n",
              "      <td>...</td>\n",
              "      <td>141</td>\n",
              "      <td>mpfi</td>\n",
              "      <td>3.78</td>\n",
              "      <td>3.15</td>\n",
              "      <td>8.7</td>\n",
              "      <td>160</td>\n",
              "      <td>5300</td>\n",
              "      <td>19</td>\n",
              "      <td>25</td>\n",
              "      <td>19045.0</td>\n",
              "    </tr>\n",
              "    <tr>\n",
              "      <th>202</th>\n",
              "      <td>203</td>\n",
              "      <td>-1</td>\n",
              "      <td>volvo 244dl</td>\n",
              "      <td>gas</td>\n",
              "      <td>std</td>\n",
              "      <td>four</td>\n",
              "      <td>sedan</td>\n",
              "      <td>rwd</td>\n",
              "      <td>front</td>\n",
              "      <td>109.1</td>\n",
              "      <td>...</td>\n",
              "      <td>173</td>\n",
              "      <td>mpfi</td>\n",
              "      <td>3.58</td>\n",
              "      <td>2.87</td>\n",
              "      <td>8.8</td>\n",
              "      <td>134</td>\n",
              "      <td>5500</td>\n",
              "      <td>18</td>\n",
              "      <td>23</td>\n",
              "      <td>21485.0</td>\n",
              "    </tr>\n",
              "    <tr>\n",
              "      <th>203</th>\n",
              "      <td>204</td>\n",
              "      <td>-1</td>\n",
              "      <td>volvo 246</td>\n",
              "      <td>diesel</td>\n",
              "      <td>turbo</td>\n",
              "      <td>four</td>\n",
              "      <td>sedan</td>\n",
              "      <td>rwd</td>\n",
              "      <td>front</td>\n",
              "      <td>109.1</td>\n",
              "      <td>...</td>\n",
              "      <td>145</td>\n",
              "      <td>idi</td>\n",
              "      <td>3.01</td>\n",
              "      <td>3.40</td>\n",
              "      <td>23.0</td>\n",
              "      <td>106</td>\n",
              "      <td>4800</td>\n",
              "      <td>26</td>\n",
              "      <td>27</td>\n",
              "      <td>22470.0</td>\n",
              "    </tr>\n",
              "    <tr>\n",
              "      <th>204</th>\n",
              "      <td>205</td>\n",
              "      <td>-1</td>\n",
              "      <td>volvo 264gl</td>\n",
              "      <td>gas</td>\n",
              "      <td>turbo</td>\n",
              "      <td>four</td>\n",
              "      <td>sedan</td>\n",
              "      <td>rwd</td>\n",
              "      <td>front</td>\n",
              "      <td>109.1</td>\n",
              "      <td>...</td>\n",
              "      <td>141</td>\n",
              "      <td>mpfi</td>\n",
              "      <td>3.78</td>\n",
              "      <td>3.15</td>\n",
              "      <td>9.5</td>\n",
              "      <td>114</td>\n",
              "      <td>5400</td>\n",
              "      <td>19</td>\n",
              "      <td>25</td>\n",
              "      <td>22625.0</td>\n",
              "    </tr>\n",
              "  </tbody>\n",
              "</table>\n",
              "<p>205 rows × 26 columns</p>\n",
              "</div>\n",
              "      <button class=\"colab-df-convert\" onclick=\"convertToInteractive('df-f57e5359-33bc-45b0-be3e-3e332df2f911')\"\n",
              "              title=\"Convert this dataframe to an interactive table.\"\n",
              "              style=\"display:none;\">\n",
              "        \n",
              "  <svg xmlns=\"http://www.w3.org/2000/svg\" height=\"24px\"viewBox=\"0 0 24 24\"\n",
              "       width=\"24px\">\n",
              "    <path d=\"M0 0h24v24H0V0z\" fill=\"none\"/>\n",
              "    <path d=\"M18.56 5.44l.94 2.06.94-2.06 2.06-.94-2.06-.94-.94-2.06-.94 2.06-2.06.94zm-11 1L8.5 8.5l.94-2.06 2.06-.94-2.06-.94L8.5 2.5l-.94 2.06-2.06.94zm10 10l.94 2.06.94-2.06 2.06-.94-2.06-.94-.94-2.06-.94 2.06-2.06.94z\"/><path d=\"M17.41 7.96l-1.37-1.37c-.4-.4-.92-.59-1.43-.59-.52 0-1.04.2-1.43.59L10.3 9.45l-7.72 7.72c-.78.78-.78 2.05 0 2.83L4 21.41c.39.39.9.59 1.41.59.51 0 1.02-.2 1.41-.59l7.78-7.78 2.81-2.81c.8-.78.8-2.07 0-2.86zM5.41 20L4 18.59l7.72-7.72 1.47 1.35L5.41 20z\"/>\n",
              "  </svg>\n",
              "      </button>\n",
              "      \n",
              "  <style>\n",
              "    .colab-df-container {\n",
              "      display:flex;\n",
              "      flex-wrap:wrap;\n",
              "      gap: 12px;\n",
              "    }\n",
              "\n",
              "    .colab-df-convert {\n",
              "      background-color: #E8F0FE;\n",
              "      border: none;\n",
              "      border-radius: 50%;\n",
              "      cursor: pointer;\n",
              "      display: none;\n",
              "      fill: #1967D2;\n",
              "      height: 32px;\n",
              "      padding: 0 0 0 0;\n",
              "      width: 32px;\n",
              "    }\n",
              "\n",
              "    .colab-df-convert:hover {\n",
              "      background-color: #E2EBFA;\n",
              "      box-shadow: 0px 1px 2px rgba(60, 64, 67, 0.3), 0px 1px 3px 1px rgba(60, 64, 67, 0.15);\n",
              "      fill: #174EA6;\n",
              "    }\n",
              "\n",
              "    [theme=dark] .colab-df-convert {\n",
              "      background-color: #3B4455;\n",
              "      fill: #D2E3FC;\n",
              "    }\n",
              "\n",
              "    [theme=dark] .colab-df-convert:hover {\n",
              "      background-color: #434B5C;\n",
              "      box-shadow: 0px 1px 3px 1px rgba(0, 0, 0, 0.15);\n",
              "      filter: drop-shadow(0px 1px 2px rgba(0, 0, 0, 0.3));\n",
              "      fill: #FFFFFF;\n",
              "    }\n",
              "  </style>\n",
              "\n",
              "      <script>\n",
              "        const buttonEl =\n",
              "          document.querySelector('#df-f57e5359-33bc-45b0-be3e-3e332df2f911 button.colab-df-convert');\n",
              "        buttonEl.style.display =\n",
              "          google.colab.kernel.accessAllowed ? 'block' : 'none';\n",
              "\n",
              "        async function convertToInteractive(key) {\n",
              "          const element = document.querySelector('#df-f57e5359-33bc-45b0-be3e-3e332df2f911');\n",
              "          const dataTable =\n",
              "            await google.colab.kernel.invokeFunction('convertToInteractive',\n",
              "                                                     [key], {});\n",
              "          if (!dataTable) return;\n",
              "\n",
              "          const docLinkHtml = 'Like what you see? Visit the ' +\n",
              "            '<a target=\"_blank\" href=https://colab.research.google.com/notebooks/data_table.ipynb>data table notebook</a>'\n",
              "            + ' to learn more about interactive tables.';\n",
              "          element.innerHTML = '';\n",
              "          dataTable['output_type'] = 'display_data';\n",
              "          await google.colab.output.renderOutput(dataTable, element);\n",
              "          const docLink = document.createElement('div');\n",
              "          docLink.innerHTML = docLinkHtml;\n",
              "          element.appendChild(docLink);\n",
              "        }\n",
              "      </script>\n",
              "    </div>\n",
              "  </div>\n",
              "  "
            ],
            "text/plain": [
              "     car_ID  symboling                   CarName fueltype aspiration  \\\n",
              "0         1          3        alfa-romero giulia      gas        std   \n",
              "1         2          3       alfa-romero stelvio      gas        std   \n",
              "2         3          1  alfa-romero Quadrifoglio      gas        std   \n",
              "3         4          2               audi 100 ls      gas        std   \n",
              "4         5          2                audi 100ls      gas        std   \n",
              "..      ...        ...                       ...      ...        ...   \n",
              "200     201         -1           volvo 145e (sw)      gas        std   \n",
              "201     202         -1               volvo 144ea      gas      turbo   \n",
              "202     203         -1               volvo 244dl      gas        std   \n",
              "203     204         -1                 volvo 246   diesel      turbo   \n",
              "204     205         -1               volvo 264gl      gas      turbo   \n",
              "\n",
              "    doornumber      carbody drivewheel enginelocation  wheelbase  ...  \\\n",
              "0          two  convertible        rwd          front       88.6  ...   \n",
              "1          two  convertible        rwd          front       88.6  ...   \n",
              "2          two    hatchback        rwd          front       94.5  ...   \n",
              "3         four        sedan        fwd          front       99.8  ...   \n",
              "4         four        sedan        4wd          front       99.4  ...   \n",
              "..         ...          ...        ...            ...        ...  ...   \n",
              "200       four        sedan        rwd          front      109.1  ...   \n",
              "201       four        sedan        rwd          front      109.1  ...   \n",
              "202       four        sedan        rwd          front      109.1  ...   \n",
              "203       four        sedan        rwd          front      109.1  ...   \n",
              "204       four        sedan        rwd          front      109.1  ...   \n",
              "\n",
              "     enginesize  fuelsystem  boreratio  stroke compressionratio horsepower  \\\n",
              "0           130        mpfi       3.47    2.68              9.0        111   \n",
              "1           130        mpfi       3.47    2.68              9.0        111   \n",
              "2           152        mpfi       2.68    3.47              9.0        154   \n",
              "3           109        mpfi       3.19    3.40             10.0        102   \n",
              "4           136        mpfi       3.19    3.40              8.0        115   \n",
              "..          ...         ...        ...     ...              ...        ...   \n",
              "200         141        mpfi       3.78    3.15              9.5        114   \n",
              "201         141        mpfi       3.78    3.15              8.7        160   \n",
              "202         173        mpfi       3.58    2.87              8.8        134   \n",
              "203         145         idi       3.01    3.40             23.0        106   \n",
              "204         141        mpfi       3.78    3.15              9.5        114   \n",
              "\n",
              "     peakrpm citympg  highwaympg    price  \n",
              "0       5000      21          27  13495.0  \n",
              "1       5000      21          27  16500.0  \n",
              "2       5000      19          26  16500.0  \n",
              "3       5500      24          30  13950.0  \n",
              "4       5500      18          22  17450.0  \n",
              "..       ...     ...         ...      ...  \n",
              "200     5400      23          28  16845.0  \n",
              "201     5300      19          25  19045.0  \n",
              "202     5500      18          23  21485.0  \n",
              "203     4800      26          27  22470.0  \n",
              "204     5400      19          25  22625.0  \n",
              "\n",
              "[205 rows x 26 columns]"
            ]
          },
          "execution_count": 32,
          "metadata": {},
          "output_type": "execute_result"
        }
      ],
      "source": [
        "import pandas as pd\n",
        "\n",
        "import numpy as np\n",
        "\n",
        "url='https://raw.githubusercontent.com/amankharwal/Website-data/master/CarPrice.csv'\n",
        "\n",
        "df1=pd.read_csv(url)\n",
        "\n",
        "df1\n"
      ]
    },
    {
      "cell_type": "markdown",
      "metadata": {
        "id": "a_iYNi33E8DO"
      },
      "source": [
        "lets check the dataframe:"
      ]
    },
    {
      "cell_type": "code",
      "execution_count": 33,
      "metadata": {
        "colab": {
          "base_uri": "https://localhost:8080/"
        },
        "id": "ggsyOdwDFAmn",
        "outputId": "285f4750-f34c-4637-ad4b-aac3418ff652"
      },
      "outputs": [
        {
          "data": {
            "text/plain": [
              "(205, 26)"
            ]
          },
          "execution_count": 33,
          "metadata": {},
          "output_type": "execute_result"
        }
      ],
      "source": [
        "df1.shape"
      ]
    },
    {
      "cell_type": "code",
      "execution_count": 34,
      "metadata": {
        "colab": {
          "base_uri": "https://localhost:8080/",
          "height": 364
        },
        "id": "V6fQDATiFYsV",
        "outputId": "44eab3c7-9dfc-48bc-d300-c243c19b638f"
      },
      "outputs": [
        {
          "data": {
            "text/html": [
              "\n",
              "  <div id=\"df-f7aaa1a9-48ee-4a81-a3a8-3d3f5d13492f\">\n",
              "    <div class=\"colab-df-container\">\n",
              "      <div>\n",
              "<style scoped>\n",
              "    .dataframe tbody tr th:only-of-type {\n",
              "        vertical-align: middle;\n",
              "    }\n",
              "\n",
              "    .dataframe tbody tr th {\n",
              "        vertical-align: top;\n",
              "    }\n",
              "\n",
              "    .dataframe thead th {\n",
              "        text-align: right;\n",
              "    }\n",
              "</style>\n",
              "<table border=\"1\" class=\"dataframe\">\n",
              "  <thead>\n",
              "    <tr style=\"text-align: right;\">\n",
              "      <th></th>\n",
              "      <th>car_ID</th>\n",
              "      <th>symboling</th>\n",
              "      <th>wheelbase</th>\n",
              "      <th>carlength</th>\n",
              "      <th>carwidth</th>\n",
              "      <th>carheight</th>\n",
              "      <th>curbweight</th>\n",
              "      <th>enginesize</th>\n",
              "      <th>boreratio</th>\n",
              "      <th>stroke</th>\n",
              "      <th>compressionratio</th>\n",
              "      <th>horsepower</th>\n",
              "      <th>peakrpm</th>\n",
              "      <th>citympg</th>\n",
              "      <th>highwaympg</th>\n",
              "      <th>price</th>\n",
              "    </tr>\n",
              "  </thead>\n",
              "  <tbody>\n",
              "    <tr>\n",
              "      <th>count</th>\n",
              "      <td>205.000000</td>\n",
              "      <td>205.000000</td>\n",
              "      <td>205.000000</td>\n",
              "      <td>205.000000</td>\n",
              "      <td>205.000000</td>\n",
              "      <td>205.000000</td>\n",
              "      <td>205.000000</td>\n",
              "      <td>205.000000</td>\n",
              "      <td>205.000000</td>\n",
              "      <td>205.000000</td>\n",
              "      <td>205.000000</td>\n",
              "      <td>205.000000</td>\n",
              "      <td>205.000000</td>\n",
              "      <td>205.000000</td>\n",
              "      <td>205.000000</td>\n",
              "      <td>205.000000</td>\n",
              "    </tr>\n",
              "    <tr>\n",
              "      <th>mean</th>\n",
              "      <td>103.000000</td>\n",
              "      <td>0.834146</td>\n",
              "      <td>98.756585</td>\n",
              "      <td>174.049268</td>\n",
              "      <td>65.907805</td>\n",
              "      <td>53.724878</td>\n",
              "      <td>2555.565854</td>\n",
              "      <td>126.907317</td>\n",
              "      <td>3.329756</td>\n",
              "      <td>3.255415</td>\n",
              "      <td>10.142537</td>\n",
              "      <td>104.117073</td>\n",
              "      <td>5125.121951</td>\n",
              "      <td>25.219512</td>\n",
              "      <td>30.751220</td>\n",
              "      <td>13276.710571</td>\n",
              "    </tr>\n",
              "    <tr>\n",
              "      <th>std</th>\n",
              "      <td>59.322565</td>\n",
              "      <td>1.245307</td>\n",
              "      <td>6.021776</td>\n",
              "      <td>12.337289</td>\n",
              "      <td>2.145204</td>\n",
              "      <td>2.443522</td>\n",
              "      <td>520.680204</td>\n",
              "      <td>41.642693</td>\n",
              "      <td>0.270844</td>\n",
              "      <td>0.313597</td>\n",
              "      <td>3.972040</td>\n",
              "      <td>39.544167</td>\n",
              "      <td>476.985643</td>\n",
              "      <td>6.542142</td>\n",
              "      <td>6.886443</td>\n",
              "      <td>7988.852332</td>\n",
              "    </tr>\n",
              "    <tr>\n",
              "      <th>min</th>\n",
              "      <td>1.000000</td>\n",
              "      <td>-2.000000</td>\n",
              "      <td>86.600000</td>\n",
              "      <td>141.100000</td>\n",
              "      <td>60.300000</td>\n",
              "      <td>47.800000</td>\n",
              "      <td>1488.000000</td>\n",
              "      <td>61.000000</td>\n",
              "      <td>2.540000</td>\n",
              "      <td>2.070000</td>\n",
              "      <td>7.000000</td>\n",
              "      <td>48.000000</td>\n",
              "      <td>4150.000000</td>\n",
              "      <td>13.000000</td>\n",
              "      <td>16.000000</td>\n",
              "      <td>5118.000000</td>\n",
              "    </tr>\n",
              "    <tr>\n",
              "      <th>25%</th>\n",
              "      <td>52.000000</td>\n",
              "      <td>0.000000</td>\n",
              "      <td>94.500000</td>\n",
              "      <td>166.300000</td>\n",
              "      <td>64.100000</td>\n",
              "      <td>52.000000</td>\n",
              "      <td>2145.000000</td>\n",
              "      <td>97.000000</td>\n",
              "      <td>3.150000</td>\n",
              "      <td>3.110000</td>\n",
              "      <td>8.600000</td>\n",
              "      <td>70.000000</td>\n",
              "      <td>4800.000000</td>\n",
              "      <td>19.000000</td>\n",
              "      <td>25.000000</td>\n",
              "      <td>7788.000000</td>\n",
              "    </tr>\n",
              "    <tr>\n",
              "      <th>50%</th>\n",
              "      <td>103.000000</td>\n",
              "      <td>1.000000</td>\n",
              "      <td>97.000000</td>\n",
              "      <td>173.200000</td>\n",
              "      <td>65.500000</td>\n",
              "      <td>54.100000</td>\n",
              "      <td>2414.000000</td>\n",
              "      <td>120.000000</td>\n",
              "      <td>3.310000</td>\n",
              "      <td>3.290000</td>\n",
              "      <td>9.000000</td>\n",
              "      <td>95.000000</td>\n",
              "      <td>5200.000000</td>\n",
              "      <td>24.000000</td>\n",
              "      <td>30.000000</td>\n",
              "      <td>10295.000000</td>\n",
              "    </tr>\n",
              "    <tr>\n",
              "      <th>75%</th>\n",
              "      <td>154.000000</td>\n",
              "      <td>2.000000</td>\n",
              "      <td>102.400000</td>\n",
              "      <td>183.100000</td>\n",
              "      <td>66.900000</td>\n",
              "      <td>55.500000</td>\n",
              "      <td>2935.000000</td>\n",
              "      <td>141.000000</td>\n",
              "      <td>3.580000</td>\n",
              "      <td>3.410000</td>\n",
              "      <td>9.400000</td>\n",
              "      <td>116.000000</td>\n",
              "      <td>5500.000000</td>\n",
              "      <td>30.000000</td>\n",
              "      <td>34.000000</td>\n",
              "      <td>16503.000000</td>\n",
              "    </tr>\n",
              "    <tr>\n",
              "      <th>max</th>\n",
              "      <td>205.000000</td>\n",
              "      <td>3.000000</td>\n",
              "      <td>120.900000</td>\n",
              "      <td>208.100000</td>\n",
              "      <td>72.300000</td>\n",
              "      <td>59.800000</td>\n",
              "      <td>4066.000000</td>\n",
              "      <td>326.000000</td>\n",
              "      <td>3.940000</td>\n",
              "      <td>4.170000</td>\n",
              "      <td>23.000000</td>\n",
              "      <td>288.000000</td>\n",
              "      <td>6600.000000</td>\n",
              "      <td>49.000000</td>\n",
              "      <td>54.000000</td>\n",
              "      <td>45400.000000</td>\n",
              "    </tr>\n",
              "  </tbody>\n",
              "</table>\n",
              "</div>\n",
              "      <button class=\"colab-df-convert\" onclick=\"convertToInteractive('df-f7aaa1a9-48ee-4a81-a3a8-3d3f5d13492f')\"\n",
              "              title=\"Convert this dataframe to an interactive table.\"\n",
              "              style=\"display:none;\">\n",
              "        \n",
              "  <svg xmlns=\"http://www.w3.org/2000/svg\" height=\"24px\"viewBox=\"0 0 24 24\"\n",
              "       width=\"24px\">\n",
              "    <path d=\"M0 0h24v24H0V0z\" fill=\"none\"/>\n",
              "    <path d=\"M18.56 5.44l.94 2.06.94-2.06 2.06-.94-2.06-.94-.94-2.06-.94 2.06-2.06.94zm-11 1L8.5 8.5l.94-2.06 2.06-.94-2.06-.94L8.5 2.5l-.94 2.06-2.06.94zm10 10l.94 2.06.94-2.06 2.06-.94-2.06-.94-.94-2.06-.94 2.06-2.06.94z\"/><path d=\"M17.41 7.96l-1.37-1.37c-.4-.4-.92-.59-1.43-.59-.52 0-1.04.2-1.43.59L10.3 9.45l-7.72 7.72c-.78.78-.78 2.05 0 2.83L4 21.41c.39.39.9.59 1.41.59.51 0 1.02-.2 1.41-.59l7.78-7.78 2.81-2.81c.8-.78.8-2.07 0-2.86zM5.41 20L4 18.59l7.72-7.72 1.47 1.35L5.41 20z\"/>\n",
              "  </svg>\n",
              "      </button>\n",
              "      \n",
              "  <style>\n",
              "    .colab-df-container {\n",
              "      display:flex;\n",
              "      flex-wrap:wrap;\n",
              "      gap: 12px;\n",
              "    }\n",
              "\n",
              "    .colab-df-convert {\n",
              "      background-color: #E8F0FE;\n",
              "      border: none;\n",
              "      border-radius: 50%;\n",
              "      cursor: pointer;\n",
              "      display: none;\n",
              "      fill: #1967D2;\n",
              "      height: 32px;\n",
              "      padding: 0 0 0 0;\n",
              "      width: 32px;\n",
              "    }\n",
              "\n",
              "    .colab-df-convert:hover {\n",
              "      background-color: #E2EBFA;\n",
              "      box-shadow: 0px 1px 2px rgba(60, 64, 67, 0.3), 0px 1px 3px 1px rgba(60, 64, 67, 0.15);\n",
              "      fill: #174EA6;\n",
              "    }\n",
              "\n",
              "    [theme=dark] .colab-df-convert {\n",
              "      background-color: #3B4455;\n",
              "      fill: #D2E3FC;\n",
              "    }\n",
              "\n",
              "    [theme=dark] .colab-df-convert:hover {\n",
              "      background-color: #434B5C;\n",
              "      box-shadow: 0px 1px 3px 1px rgba(0, 0, 0, 0.15);\n",
              "      filter: drop-shadow(0px 1px 2px rgba(0, 0, 0, 0.3));\n",
              "      fill: #FFFFFF;\n",
              "    }\n",
              "  </style>\n",
              "\n",
              "      <script>\n",
              "        const buttonEl =\n",
              "          document.querySelector('#df-f7aaa1a9-48ee-4a81-a3a8-3d3f5d13492f button.colab-df-convert');\n",
              "        buttonEl.style.display =\n",
              "          google.colab.kernel.accessAllowed ? 'block' : 'none';\n",
              "\n",
              "        async function convertToInteractive(key) {\n",
              "          const element = document.querySelector('#df-f7aaa1a9-48ee-4a81-a3a8-3d3f5d13492f');\n",
              "          const dataTable =\n",
              "            await google.colab.kernel.invokeFunction('convertToInteractive',\n",
              "                                                     [key], {});\n",
              "          if (!dataTable) return;\n",
              "\n",
              "          const docLinkHtml = 'Like what you see? Visit the ' +\n",
              "            '<a target=\"_blank\" href=https://colab.research.google.com/notebooks/data_table.ipynb>data table notebook</a>'\n",
              "            + ' to learn more about interactive tables.';\n",
              "          element.innerHTML = '';\n",
              "          dataTable['output_type'] = 'display_data';\n",
              "          await google.colab.output.renderOutput(dataTable, element);\n",
              "          const docLink = document.createElement('div');\n",
              "          docLink.innerHTML = docLinkHtml;\n",
              "          element.appendChild(docLink);\n",
              "        }\n",
              "      </script>\n",
              "    </div>\n",
              "  </div>\n",
              "  "
            ],
            "text/plain": [
              "           car_ID   symboling   wheelbase   carlength    carwidth   carheight  \\\n",
              "count  205.000000  205.000000  205.000000  205.000000  205.000000  205.000000   \n",
              "mean   103.000000    0.834146   98.756585  174.049268   65.907805   53.724878   \n",
              "std     59.322565    1.245307    6.021776   12.337289    2.145204    2.443522   \n",
              "min      1.000000   -2.000000   86.600000  141.100000   60.300000   47.800000   \n",
              "25%     52.000000    0.000000   94.500000  166.300000   64.100000   52.000000   \n",
              "50%    103.000000    1.000000   97.000000  173.200000   65.500000   54.100000   \n",
              "75%    154.000000    2.000000  102.400000  183.100000   66.900000   55.500000   \n",
              "max    205.000000    3.000000  120.900000  208.100000   72.300000   59.800000   \n",
              "\n",
              "        curbweight  enginesize   boreratio      stroke  compressionratio  \\\n",
              "count   205.000000  205.000000  205.000000  205.000000        205.000000   \n",
              "mean   2555.565854  126.907317    3.329756    3.255415         10.142537   \n",
              "std     520.680204   41.642693    0.270844    0.313597          3.972040   \n",
              "min    1488.000000   61.000000    2.540000    2.070000          7.000000   \n",
              "25%    2145.000000   97.000000    3.150000    3.110000          8.600000   \n",
              "50%    2414.000000  120.000000    3.310000    3.290000          9.000000   \n",
              "75%    2935.000000  141.000000    3.580000    3.410000          9.400000   \n",
              "max    4066.000000  326.000000    3.940000    4.170000         23.000000   \n",
              "\n",
              "       horsepower      peakrpm     citympg  highwaympg         price  \n",
              "count  205.000000   205.000000  205.000000  205.000000    205.000000  \n",
              "mean   104.117073  5125.121951   25.219512   30.751220  13276.710571  \n",
              "std     39.544167   476.985643    6.542142    6.886443   7988.852332  \n",
              "min     48.000000  4150.000000   13.000000   16.000000   5118.000000  \n",
              "25%     70.000000  4800.000000   19.000000   25.000000   7788.000000  \n",
              "50%     95.000000  5200.000000   24.000000   30.000000  10295.000000  \n",
              "75%    116.000000  5500.000000   30.000000   34.000000  16503.000000  \n",
              "max    288.000000  6600.000000   49.000000   54.000000  45400.000000  "
            ]
          },
          "execution_count": 34,
          "metadata": {},
          "output_type": "execute_result"
        }
      ],
      "source": [
        "df1.describe()"
      ]
    },
    {
      "cell_type": "code",
      "execution_count": 35,
      "metadata": {
        "colab": {
          "base_uri": "https://localhost:8080/"
        },
        "id": "j7oHaMHUFd2E",
        "outputId": "544d2b22-c4ff-4791-887c-ef94ea2a38f5"
      },
      "outputs": [
        {
          "name": "stdout",
          "output_type": "stream",
          "text": [
            "<class 'pandas.core.frame.DataFrame'>\n",
            "RangeIndex: 205 entries, 0 to 204\n",
            "Data columns (total 26 columns):\n",
            " #   Column            Non-Null Count  Dtype  \n",
            "---  ------            --------------  -----  \n",
            " 0   car_ID            205 non-null    int64  \n",
            " 1   symboling         205 non-null    int64  \n",
            " 2   CarName           205 non-null    object \n",
            " 3   fueltype          205 non-null    object \n",
            " 4   aspiration        205 non-null    object \n",
            " 5   doornumber        205 non-null    object \n",
            " 6   carbody           205 non-null    object \n",
            " 7   drivewheel        205 non-null    object \n",
            " 8   enginelocation    205 non-null    object \n",
            " 9   wheelbase         205 non-null    float64\n",
            " 10  carlength         205 non-null    float64\n",
            " 11  carwidth          205 non-null    float64\n",
            " 12  carheight         205 non-null    float64\n",
            " 13  curbweight        205 non-null    int64  \n",
            " 14  enginetype        205 non-null    object \n",
            " 15  cylindernumber    205 non-null    object \n",
            " 16  enginesize        205 non-null    int64  \n",
            " 17  fuelsystem        205 non-null    object \n",
            " 18  boreratio         205 non-null    float64\n",
            " 19  stroke            205 non-null    float64\n",
            " 20  compressionratio  205 non-null    float64\n",
            " 21  horsepower        205 non-null    int64  \n",
            " 22  peakrpm           205 non-null    int64  \n",
            " 23  citympg           205 non-null    int64  \n",
            " 24  highwaympg        205 non-null    int64  \n",
            " 25  price             205 non-null    float64\n",
            "dtypes: float64(8), int64(8), object(10)\n",
            "memory usage: 41.8+ KB\n"
          ]
        }
      ],
      "source": [
        "df1.info()"
      ]
    },
    {
      "cell_type": "markdown",
      "metadata": {
        "id": "-SuNf2hXE4ep"
      },
      "source": [
        "lets check if there is any missing values"
      ]
    },
    {
      "cell_type": "code",
      "execution_count": 36,
      "metadata": {
        "colab": {
          "base_uri": "https://localhost:8080/"
        },
        "id": "M6F_hMXnFcce",
        "outputId": "1c401327-0f0a-40c2-9afb-7b31ac70639e"
      },
      "outputs": [
        {
          "data": {
            "text/plain": [
              "car_ID              0\n",
              "symboling           0\n",
              "CarName             0\n",
              "fueltype            0\n",
              "aspiration          0\n",
              "doornumber          0\n",
              "carbody             0\n",
              "drivewheel          0\n",
              "enginelocation      0\n",
              "wheelbase           0\n",
              "carlength           0\n",
              "carwidth            0\n",
              "carheight           0\n",
              "curbweight          0\n",
              "enginetype          0\n",
              "cylindernumber      0\n",
              "enginesize          0\n",
              "fuelsystem          0\n",
              "boreratio           0\n",
              "stroke              0\n",
              "compressionratio    0\n",
              "horsepower          0\n",
              "peakrpm             0\n",
              "citympg             0\n",
              "highwaympg          0\n",
              "price               0\n",
              "dtype: int64"
            ]
          },
          "execution_count": 36,
          "metadata": {},
          "output_type": "execute_result"
        }
      ],
      "source": [
        "df1.isna().sum()"
      ]
    },
    {
      "cell_type": "markdown",
      "metadata": {
        "id": "JlN-3wtCKPqE"
      },
      "source": [
        "preparing the data for training and testing:"
      ]
    },
    {
      "cell_type": "code",
      "execution_count": 37,
      "metadata": {
        "colab": {
          "base_uri": "https://localhost:8080/",
          "height": 574
        },
        "id": "Jg5ZkERFJvUW",
        "outputId": "63dadcb3-cc1e-4090-84ca-d60f0e0027fe"
      },
      "outputs": [
        {
          "data": {
            "text/html": [
              "\n",
              "  <div id=\"df-9ae37cda-3d11-4fb5-923f-15f387cf2ceb\">\n",
              "    <div class=\"colab-df-container\">\n",
              "      <div>\n",
              "<style scoped>\n",
              "    .dataframe tbody tr th:only-of-type {\n",
              "        vertical-align: middle;\n",
              "    }\n",
              "\n",
              "    .dataframe tbody tr th {\n",
              "        vertical-align: top;\n",
              "    }\n",
              "\n",
              "    .dataframe thead th {\n",
              "        text-align: right;\n",
              "    }\n",
              "</style>\n",
              "<table border=\"1\" class=\"dataframe\">\n",
              "  <thead>\n",
              "    <tr style=\"text-align: right;\">\n",
              "      <th></th>\n",
              "      <th>car_ID</th>\n",
              "      <th>symboling</th>\n",
              "      <th>CarName</th>\n",
              "      <th>fueltype</th>\n",
              "      <th>aspiration</th>\n",
              "      <th>doornumber</th>\n",
              "      <th>carbody</th>\n",
              "      <th>drivewheel</th>\n",
              "      <th>enginelocation</th>\n",
              "      <th>wheelbase</th>\n",
              "      <th>...</th>\n",
              "      <th>cylindernumber</th>\n",
              "      <th>enginesize</th>\n",
              "      <th>fuelsystem</th>\n",
              "      <th>boreratio</th>\n",
              "      <th>stroke</th>\n",
              "      <th>compressionratio</th>\n",
              "      <th>horsepower</th>\n",
              "      <th>peakrpm</th>\n",
              "      <th>citympg</th>\n",
              "      <th>highwaympg</th>\n",
              "    </tr>\n",
              "  </thead>\n",
              "  <tbody>\n",
              "    <tr>\n",
              "      <th>0</th>\n",
              "      <td>1</td>\n",
              "      <td>3</td>\n",
              "      <td>alfa-romero giulia</td>\n",
              "      <td>gas</td>\n",
              "      <td>std</td>\n",
              "      <td>two</td>\n",
              "      <td>convertible</td>\n",
              "      <td>rwd</td>\n",
              "      <td>front</td>\n",
              "      <td>88.6</td>\n",
              "      <td>...</td>\n",
              "      <td>four</td>\n",
              "      <td>130</td>\n",
              "      <td>mpfi</td>\n",
              "      <td>3.47</td>\n",
              "      <td>2.68</td>\n",
              "      <td>9.0</td>\n",
              "      <td>111</td>\n",
              "      <td>5000</td>\n",
              "      <td>21</td>\n",
              "      <td>27</td>\n",
              "    </tr>\n",
              "    <tr>\n",
              "      <th>1</th>\n",
              "      <td>2</td>\n",
              "      <td>3</td>\n",
              "      <td>alfa-romero stelvio</td>\n",
              "      <td>gas</td>\n",
              "      <td>std</td>\n",
              "      <td>two</td>\n",
              "      <td>convertible</td>\n",
              "      <td>rwd</td>\n",
              "      <td>front</td>\n",
              "      <td>88.6</td>\n",
              "      <td>...</td>\n",
              "      <td>four</td>\n",
              "      <td>130</td>\n",
              "      <td>mpfi</td>\n",
              "      <td>3.47</td>\n",
              "      <td>2.68</td>\n",
              "      <td>9.0</td>\n",
              "      <td>111</td>\n",
              "      <td>5000</td>\n",
              "      <td>21</td>\n",
              "      <td>27</td>\n",
              "    </tr>\n",
              "    <tr>\n",
              "      <th>2</th>\n",
              "      <td>3</td>\n",
              "      <td>1</td>\n",
              "      <td>alfa-romero Quadrifoglio</td>\n",
              "      <td>gas</td>\n",
              "      <td>std</td>\n",
              "      <td>two</td>\n",
              "      <td>hatchback</td>\n",
              "      <td>rwd</td>\n",
              "      <td>front</td>\n",
              "      <td>94.5</td>\n",
              "      <td>...</td>\n",
              "      <td>six</td>\n",
              "      <td>152</td>\n",
              "      <td>mpfi</td>\n",
              "      <td>2.68</td>\n",
              "      <td>3.47</td>\n",
              "      <td>9.0</td>\n",
              "      <td>154</td>\n",
              "      <td>5000</td>\n",
              "      <td>19</td>\n",
              "      <td>26</td>\n",
              "    </tr>\n",
              "    <tr>\n",
              "      <th>3</th>\n",
              "      <td>4</td>\n",
              "      <td>2</td>\n",
              "      <td>audi 100 ls</td>\n",
              "      <td>gas</td>\n",
              "      <td>std</td>\n",
              "      <td>four</td>\n",
              "      <td>sedan</td>\n",
              "      <td>fwd</td>\n",
              "      <td>front</td>\n",
              "      <td>99.8</td>\n",
              "      <td>...</td>\n",
              "      <td>four</td>\n",
              "      <td>109</td>\n",
              "      <td>mpfi</td>\n",
              "      <td>3.19</td>\n",
              "      <td>3.40</td>\n",
              "      <td>10.0</td>\n",
              "      <td>102</td>\n",
              "      <td>5500</td>\n",
              "      <td>24</td>\n",
              "      <td>30</td>\n",
              "    </tr>\n",
              "    <tr>\n",
              "      <th>4</th>\n",
              "      <td>5</td>\n",
              "      <td>2</td>\n",
              "      <td>audi 100ls</td>\n",
              "      <td>gas</td>\n",
              "      <td>std</td>\n",
              "      <td>four</td>\n",
              "      <td>sedan</td>\n",
              "      <td>4wd</td>\n",
              "      <td>front</td>\n",
              "      <td>99.4</td>\n",
              "      <td>...</td>\n",
              "      <td>five</td>\n",
              "      <td>136</td>\n",
              "      <td>mpfi</td>\n",
              "      <td>3.19</td>\n",
              "      <td>3.40</td>\n",
              "      <td>8.0</td>\n",
              "      <td>115</td>\n",
              "      <td>5500</td>\n",
              "      <td>18</td>\n",
              "      <td>22</td>\n",
              "    </tr>\n",
              "    <tr>\n",
              "      <th>...</th>\n",
              "      <td>...</td>\n",
              "      <td>...</td>\n",
              "      <td>...</td>\n",
              "      <td>...</td>\n",
              "      <td>...</td>\n",
              "      <td>...</td>\n",
              "      <td>...</td>\n",
              "      <td>...</td>\n",
              "      <td>...</td>\n",
              "      <td>...</td>\n",
              "      <td>...</td>\n",
              "      <td>...</td>\n",
              "      <td>...</td>\n",
              "      <td>...</td>\n",
              "      <td>...</td>\n",
              "      <td>...</td>\n",
              "      <td>...</td>\n",
              "      <td>...</td>\n",
              "      <td>...</td>\n",
              "      <td>...</td>\n",
              "      <td>...</td>\n",
              "    </tr>\n",
              "    <tr>\n",
              "      <th>200</th>\n",
              "      <td>201</td>\n",
              "      <td>-1</td>\n",
              "      <td>volvo 145e (sw)</td>\n",
              "      <td>gas</td>\n",
              "      <td>std</td>\n",
              "      <td>four</td>\n",
              "      <td>sedan</td>\n",
              "      <td>rwd</td>\n",
              "      <td>front</td>\n",
              "      <td>109.1</td>\n",
              "      <td>...</td>\n",
              "      <td>four</td>\n",
              "      <td>141</td>\n",
              "      <td>mpfi</td>\n",
              "      <td>3.78</td>\n",
              "      <td>3.15</td>\n",
              "      <td>9.5</td>\n",
              "      <td>114</td>\n",
              "      <td>5400</td>\n",
              "      <td>23</td>\n",
              "      <td>28</td>\n",
              "    </tr>\n",
              "    <tr>\n",
              "      <th>201</th>\n",
              "      <td>202</td>\n",
              "      <td>-1</td>\n",
              "      <td>volvo 144ea</td>\n",
              "      <td>gas</td>\n",
              "      <td>turbo</td>\n",
              "      <td>four</td>\n",
              "      <td>sedan</td>\n",
              "      <td>rwd</td>\n",
              "      <td>front</td>\n",
              "      <td>109.1</td>\n",
              "      <td>...</td>\n",
              "      <td>four</td>\n",
              "      <td>141</td>\n",
              "      <td>mpfi</td>\n",
              "      <td>3.78</td>\n",
              "      <td>3.15</td>\n",
              "      <td>8.7</td>\n",
              "      <td>160</td>\n",
              "      <td>5300</td>\n",
              "      <td>19</td>\n",
              "      <td>25</td>\n",
              "    </tr>\n",
              "    <tr>\n",
              "      <th>202</th>\n",
              "      <td>203</td>\n",
              "      <td>-1</td>\n",
              "      <td>volvo 244dl</td>\n",
              "      <td>gas</td>\n",
              "      <td>std</td>\n",
              "      <td>four</td>\n",
              "      <td>sedan</td>\n",
              "      <td>rwd</td>\n",
              "      <td>front</td>\n",
              "      <td>109.1</td>\n",
              "      <td>...</td>\n",
              "      <td>six</td>\n",
              "      <td>173</td>\n",
              "      <td>mpfi</td>\n",
              "      <td>3.58</td>\n",
              "      <td>2.87</td>\n",
              "      <td>8.8</td>\n",
              "      <td>134</td>\n",
              "      <td>5500</td>\n",
              "      <td>18</td>\n",
              "      <td>23</td>\n",
              "    </tr>\n",
              "    <tr>\n",
              "      <th>203</th>\n",
              "      <td>204</td>\n",
              "      <td>-1</td>\n",
              "      <td>volvo 246</td>\n",
              "      <td>diesel</td>\n",
              "      <td>turbo</td>\n",
              "      <td>four</td>\n",
              "      <td>sedan</td>\n",
              "      <td>rwd</td>\n",
              "      <td>front</td>\n",
              "      <td>109.1</td>\n",
              "      <td>...</td>\n",
              "      <td>six</td>\n",
              "      <td>145</td>\n",
              "      <td>idi</td>\n",
              "      <td>3.01</td>\n",
              "      <td>3.40</td>\n",
              "      <td>23.0</td>\n",
              "      <td>106</td>\n",
              "      <td>4800</td>\n",
              "      <td>26</td>\n",
              "      <td>27</td>\n",
              "    </tr>\n",
              "    <tr>\n",
              "      <th>204</th>\n",
              "      <td>205</td>\n",
              "      <td>-1</td>\n",
              "      <td>volvo 264gl</td>\n",
              "      <td>gas</td>\n",
              "      <td>turbo</td>\n",
              "      <td>four</td>\n",
              "      <td>sedan</td>\n",
              "      <td>rwd</td>\n",
              "      <td>front</td>\n",
              "      <td>109.1</td>\n",
              "      <td>...</td>\n",
              "      <td>four</td>\n",
              "      <td>141</td>\n",
              "      <td>mpfi</td>\n",
              "      <td>3.78</td>\n",
              "      <td>3.15</td>\n",
              "      <td>9.5</td>\n",
              "      <td>114</td>\n",
              "      <td>5400</td>\n",
              "      <td>19</td>\n",
              "      <td>25</td>\n",
              "    </tr>\n",
              "  </tbody>\n",
              "</table>\n",
              "<p>205 rows × 25 columns</p>\n",
              "</div>\n",
              "      <button class=\"colab-df-convert\" onclick=\"convertToInteractive('df-9ae37cda-3d11-4fb5-923f-15f387cf2ceb')\"\n",
              "              title=\"Convert this dataframe to an interactive table.\"\n",
              "              style=\"display:none;\">\n",
              "        \n",
              "  <svg xmlns=\"http://www.w3.org/2000/svg\" height=\"24px\"viewBox=\"0 0 24 24\"\n",
              "       width=\"24px\">\n",
              "    <path d=\"M0 0h24v24H0V0z\" fill=\"none\"/>\n",
              "    <path d=\"M18.56 5.44l.94 2.06.94-2.06 2.06-.94-2.06-.94-.94-2.06-.94 2.06-2.06.94zm-11 1L8.5 8.5l.94-2.06 2.06-.94-2.06-.94L8.5 2.5l-.94 2.06-2.06.94zm10 10l.94 2.06.94-2.06 2.06-.94-2.06-.94-.94-2.06-.94 2.06-2.06.94z\"/><path d=\"M17.41 7.96l-1.37-1.37c-.4-.4-.92-.59-1.43-.59-.52 0-1.04.2-1.43.59L10.3 9.45l-7.72 7.72c-.78.78-.78 2.05 0 2.83L4 21.41c.39.39.9.59 1.41.59.51 0 1.02-.2 1.41-.59l7.78-7.78 2.81-2.81c.8-.78.8-2.07 0-2.86zM5.41 20L4 18.59l7.72-7.72 1.47 1.35L5.41 20z\"/>\n",
              "  </svg>\n",
              "      </button>\n",
              "      \n",
              "  <style>\n",
              "    .colab-df-container {\n",
              "      display:flex;\n",
              "      flex-wrap:wrap;\n",
              "      gap: 12px;\n",
              "    }\n",
              "\n",
              "    .colab-df-convert {\n",
              "      background-color: #E8F0FE;\n",
              "      border: none;\n",
              "      border-radius: 50%;\n",
              "      cursor: pointer;\n",
              "      display: none;\n",
              "      fill: #1967D2;\n",
              "      height: 32px;\n",
              "      padding: 0 0 0 0;\n",
              "      width: 32px;\n",
              "    }\n",
              "\n",
              "    .colab-df-convert:hover {\n",
              "      background-color: #E2EBFA;\n",
              "      box-shadow: 0px 1px 2px rgba(60, 64, 67, 0.3), 0px 1px 3px 1px rgba(60, 64, 67, 0.15);\n",
              "      fill: #174EA6;\n",
              "    }\n",
              "\n",
              "    [theme=dark] .colab-df-convert {\n",
              "      background-color: #3B4455;\n",
              "      fill: #D2E3FC;\n",
              "    }\n",
              "\n",
              "    [theme=dark] .colab-df-convert:hover {\n",
              "      background-color: #434B5C;\n",
              "      box-shadow: 0px 1px 3px 1px rgba(0, 0, 0, 0.15);\n",
              "      filter: drop-shadow(0px 1px 2px rgba(0, 0, 0, 0.3));\n",
              "      fill: #FFFFFF;\n",
              "    }\n",
              "  </style>\n",
              "\n",
              "      <script>\n",
              "        const buttonEl =\n",
              "          document.querySelector('#df-9ae37cda-3d11-4fb5-923f-15f387cf2ceb button.colab-df-convert');\n",
              "        buttonEl.style.display =\n",
              "          google.colab.kernel.accessAllowed ? 'block' : 'none';\n",
              "\n",
              "        async function convertToInteractive(key) {\n",
              "          const element = document.querySelector('#df-9ae37cda-3d11-4fb5-923f-15f387cf2ceb');\n",
              "          const dataTable =\n",
              "            await google.colab.kernel.invokeFunction('convertToInteractive',\n",
              "                                                     [key], {});\n",
              "          if (!dataTable) return;\n",
              "\n",
              "          const docLinkHtml = 'Like what you see? Visit the ' +\n",
              "            '<a target=\"_blank\" href=https://colab.research.google.com/notebooks/data_table.ipynb>data table notebook</a>'\n",
              "            + ' to learn more about interactive tables.';\n",
              "          element.innerHTML = '';\n",
              "          dataTable['output_type'] = 'display_data';\n",
              "          await google.colab.output.renderOutput(dataTable, element);\n",
              "          const docLink = document.createElement('div');\n",
              "          docLink.innerHTML = docLinkHtml;\n",
              "          element.appendChild(docLink);\n",
              "        }\n",
              "      </script>\n",
              "    </div>\n",
              "  </div>\n",
              "  "
            ],
            "text/plain": [
              "     car_ID  symboling                   CarName fueltype aspiration  \\\n",
              "0         1          3        alfa-romero giulia      gas        std   \n",
              "1         2          3       alfa-romero stelvio      gas        std   \n",
              "2         3          1  alfa-romero Quadrifoglio      gas        std   \n",
              "3         4          2               audi 100 ls      gas        std   \n",
              "4         5          2                audi 100ls      gas        std   \n",
              "..      ...        ...                       ...      ...        ...   \n",
              "200     201         -1           volvo 145e (sw)      gas        std   \n",
              "201     202         -1               volvo 144ea      gas      turbo   \n",
              "202     203         -1               volvo 244dl      gas        std   \n",
              "203     204         -1                 volvo 246   diesel      turbo   \n",
              "204     205         -1               volvo 264gl      gas      turbo   \n",
              "\n",
              "    doornumber      carbody drivewheel enginelocation  wheelbase  ...  \\\n",
              "0          two  convertible        rwd          front       88.6  ...   \n",
              "1          two  convertible        rwd          front       88.6  ...   \n",
              "2          two    hatchback        rwd          front       94.5  ...   \n",
              "3         four        sedan        fwd          front       99.8  ...   \n",
              "4         four        sedan        4wd          front       99.4  ...   \n",
              "..         ...          ...        ...            ...        ...  ...   \n",
              "200       four        sedan        rwd          front      109.1  ...   \n",
              "201       four        sedan        rwd          front      109.1  ...   \n",
              "202       four        sedan        rwd          front      109.1  ...   \n",
              "203       four        sedan        rwd          front      109.1  ...   \n",
              "204       four        sedan        rwd          front      109.1  ...   \n",
              "\n",
              "     cylindernumber  enginesize  fuelsystem  boreratio stroke  \\\n",
              "0              four         130        mpfi       3.47   2.68   \n",
              "1              four         130        mpfi       3.47   2.68   \n",
              "2               six         152        mpfi       2.68   3.47   \n",
              "3              four         109        mpfi       3.19   3.40   \n",
              "4              five         136        mpfi       3.19   3.40   \n",
              "..              ...         ...         ...        ...    ...   \n",
              "200            four         141        mpfi       3.78   3.15   \n",
              "201            four         141        mpfi       3.78   3.15   \n",
              "202             six         173        mpfi       3.58   2.87   \n",
              "203             six         145         idi       3.01   3.40   \n",
              "204            four         141        mpfi       3.78   3.15   \n",
              "\n",
              "    compressionratio  horsepower peakrpm  citympg  highwaympg  \n",
              "0                9.0         111    5000       21          27  \n",
              "1                9.0         111    5000       21          27  \n",
              "2                9.0         154    5000       19          26  \n",
              "3               10.0         102    5500       24          30  \n",
              "4                8.0         115    5500       18          22  \n",
              "..               ...         ...     ...      ...         ...  \n",
              "200              9.5         114    5400       23          28  \n",
              "201              8.7         160    5300       19          25  \n",
              "202              8.8         134    5500       18          23  \n",
              "203             23.0         106    4800       26          27  \n",
              "204              9.5         114    5400       19          25  \n",
              "\n",
              "[205 rows x 25 columns]"
            ]
          },
          "execution_count": 37,
          "metadata": {},
          "output_type": "execute_result"
        }
      ],
      "source": [
        "df2=df1.drop('price', axis=1) # features\n",
        "df2\n",
        "\n"
      ]
    },
    {
      "cell_type": "code",
      "execution_count": 38,
      "metadata": {
        "colab": {
          "base_uri": "https://localhost:8080/"
        },
        "id": "AaFAzu9QVJ6K",
        "outputId": "448fa32b-dbe3-4417-feb7-301f21238e38"
      },
      "outputs": [
        {
          "name": "stdout",
          "output_type": "stream",
          "text": [
            "(205, 25) (205,)\n"
          ]
        }
      ],
      "source": [
        "data1=df2.values\n",
        "data2 = df1['price'].values # labels\n",
        "\n",
        "X, y = data1, data2\n",
        "\n",
        "print(X.shape, y.shape)\n",
        "\n",
        "\n"
      ]
    },
    {
      "cell_type": "markdown",
      "metadata": {
        "id": "zbxJrN5TInj6"
      },
      "source": [
        "lets apply data preprocessing technique:"
      ]
    },
    {
      "cell_type": "code",
      "execution_count": 39,
      "metadata": {
        "id": "cNgzK4eURc1A"
      },
      "outputs": [],
      "source": [
        "from sklearn.preprocessing import OneHotEncoder\n",
        "X2= OneHotEncoder().fit_transform(X).toarray()"
      ]
    },
    {
      "cell_type": "code",
      "execution_count": 40,
      "metadata": {
        "colab": {
          "base_uri": "https://localhost:8080/"
        },
        "id": "DIdHgqptSqDB",
        "outputId": "3628d7e6-262e-449b-e42b-03f2dad2846b"
      },
      "outputs": [
        {
          "data": {
            "text/plain": [
              "array([[1., 0., 0., ..., 0., 0., 0.],\n",
              "       [0., 1., 0., ..., 0., 0., 0.],\n",
              "       [0., 0., 1., ..., 0., 0., 0.],\n",
              "       ...,\n",
              "       [0., 0., 0., ..., 0., 0., 0.],\n",
              "       [0., 0., 0., ..., 0., 0., 0.],\n",
              "       [0., 0., 0., ..., 0., 0., 0.]])"
            ]
          },
          "execution_count": 40,
          "metadata": {},
          "output_type": "execute_result"
        }
      ],
      "source": [
        "X2"
      ]
    },
    {
      "cell_type": "code",
      "execution_count": 41,
      "metadata": {
        "colab": {
          "base_uri": "https://localhost:8080/"
        },
        "id": "XFA7UzjnKL95",
        "outputId": "26f4f3a7-95a4-4f77-f0f7-ffdfc9d79a65"
      },
      "outputs": [
        {
          "data": {
            "text/plain": [
              "array([13495.   , 16500.   , 16500.   , 13950.   , 17450.   , 15250.   ,\n",
              "       17710.   , 18920.   , 23875.   , 17859.167, 16430.   , 16925.   ,\n",
              "       20970.   , 21105.   , 24565.   , 30760.   , 41315.   , 36880.   ,\n",
              "        5151.   ,  6295.   ,  6575.   ,  5572.   ,  6377.   ,  7957.   ,\n",
              "        6229.   ,  6692.   ,  7609.   ,  8558.   ,  8921.   , 12964.   ,\n",
              "        6479.   ,  6855.   ,  5399.   ,  6529.   ,  7129.   ,  7295.   ,\n",
              "        7295.   ,  7895.   ,  9095.   ,  8845.   , 10295.   , 12945.   ,\n",
              "       10345.   ,  6785.   ,  8916.5  ,  8916.5  , 11048.   , 32250.   ,\n",
              "       35550.   , 36000.   ,  5195.   ,  6095.   ,  6795.   ,  6695.   ,\n",
              "        7395.   , 10945.   , 11845.   , 13645.   , 15645.   ,  8845.   ,\n",
              "        8495.   , 10595.   , 10245.   , 10795.   , 11245.   , 18280.   ,\n",
              "       18344.   , 25552.   , 28248.   , 28176.   , 31600.   , 34184.   ,\n",
              "       35056.   , 40960.   , 45400.   , 16503.   ,  5389.   ,  6189.   ,\n",
              "        6669.   ,  7689.   ,  9959.   ,  8499.   , 12629.   , 14869.   ,\n",
              "       14489.   ,  6989.   ,  8189.   ,  9279.   ,  9279.   ,  5499.   ,\n",
              "        7099.   ,  6649.   ,  6849.   ,  7349.   ,  7299.   ,  7799.   ,\n",
              "        7499.   ,  7999.   ,  8249.   ,  8949.   ,  9549.   , 13499.   ,\n",
              "       14399.   , 13499.   , 17199.   , 19699.   , 18399.   , 11900.   ,\n",
              "       13200.   , 12440.   , 13860.   , 15580.   , 16900.   , 16695.   ,\n",
              "       17075.   , 16630.   , 17950.   , 18150.   ,  5572.   ,  7957.   ,\n",
              "        6229.   ,  6692.   ,  7609.   ,  8921.   , 12764.   , 22018.   ,\n",
              "       32528.   , 34028.   , 37028.   , 31400.5  ,  9295.   ,  9895.   ,\n",
              "       11850.   , 12170.   , 15040.   , 15510.   , 18150.   , 18620.   ,\n",
              "        5118.   ,  7053.   ,  7603.   ,  7126.   ,  7775.   ,  9960.   ,\n",
              "        9233.   , 11259.   ,  7463.   , 10198.   ,  8013.   , 11694.   ,\n",
              "        5348.   ,  6338.   ,  6488.   ,  6918.   ,  7898.   ,  8778.   ,\n",
              "        6938.   ,  7198.   ,  7898.   ,  7788.   ,  7738.   ,  8358.   ,\n",
              "        9258.   ,  8058.   ,  8238.   ,  9298.   ,  9538.   ,  8449.   ,\n",
              "        9639.   ,  9989.   , 11199.   , 11549.   , 17669.   ,  8948.   ,\n",
              "       10698.   ,  9988.   , 10898.   , 11248.   , 16558.   , 15998.   ,\n",
              "       15690.   , 15750.   ,  7775.   ,  7975.   ,  7995.   ,  8195.   ,\n",
              "        8495.   ,  9495.   ,  9995.   , 11595.   ,  9980.   , 13295.   ,\n",
              "       13845.   , 12290.   , 12940.   , 13415.   , 15985.   , 16515.   ,\n",
              "       18420.   , 18950.   , 16845.   , 19045.   , 21485.   , 22470.   ,\n",
              "       22625.   ])"
            ]
          },
          "execution_count": 41,
          "metadata": {},
          "output_type": "execute_result"
        }
      ],
      "source": [
        "y"
      ]
    },
    {
      "cell_type": "markdown",
      "metadata": {
        "id": "BupCN9YIKZ6S"
      },
      "source": [
        "lets split the data for testing and training sets:"
      ]
    },
    {
      "cell_type": "code",
      "execution_count": 42,
      "metadata": {
        "colab": {
          "base_uri": "https://localhost:8080/"
        },
        "id": "2lKmpyEdKgf1",
        "outputId": "90b8f83f-e82a-4154-d8d6-689f5055dd61"
      },
      "outputs": [
        {
          "name": "stdout",
          "output_type": "stream",
          "text": [
            "(143, 1080) (62, 1080) (143,) (62,)\n"
          ]
        }
      ],
      "source": [
        "from sklearn.model_selection import train_test_split\n",
        "\n",
        "X_train, X_test, y_train, y_test = train_test_split(X2, y, test_size=0.30 )\n",
        "\n",
        "print(X_train.shape, X_test.shape, y_train.shape, y_test.shape)"
      ]
    },
    {
      "cell_type": "markdown",
      "metadata": {
        "id": "cL_DYiEPK5Y_"
      },
      "source": [
        "lets import linear regression and train it:"
      ]
    },
    {
      "cell_type": "code",
      "execution_count": 43,
      "metadata": {
        "id": "XD-BwaqWKv3v"
      },
      "outputs": [],
      "source": [
        "from sklearn.linear_model import LinearRegression\n",
        "\n",
        "linreg=LinearRegression()"
      ]
    },
    {
      "cell_type": "code",
      "execution_count": 44,
      "metadata": {
        "colab": {
          "base_uri": "https://localhost:8080/"
        },
        "id": "aNCYZSqPK_fR",
        "outputId": "22d6cacb-c58d-4265-f863-960a77dec8b2"
      },
      "outputs": [
        {
          "data": {
            "text/plain": [
              "LinearRegression()"
            ]
          },
          "execution_count": 44,
          "metadata": {},
          "output_type": "execute_result"
        }
      ],
      "source": [
        "\n",
        "linreg.fit(X_train,y_train.astype('int'))\n",
        "\n"
      ]
    },
    {
      "cell_type": "code",
      "execution_count": 45,
      "metadata": {
        "colab": {
          "base_uri": "https://localhost:8080/"
        },
        "id": "SW_Z07HiLHOe",
        "outputId": "f0447e76-1ccd-41f4-a0a9-dcc7f00b0be1"
      },
      "outputs": [
        {
          "data": {
            "text/plain": [
              "array([ 6563.48656705, 10559.47348082,  7221.7237916 , 31998.51480256,\n",
              "       10805.90527161,  6134.19458892, 18525.44284176,  9301.27385844,\n",
              "       12303.66438751,  9422.3937815 , 21077.98485203, 10810.93750635,\n",
              "       11904.39226148,  8516.05184998, 31191.2628489 ,  9712.04565459,\n",
              "       19754.31768064,  9311.37219005, 15409.55467924, 18700.3980265 ,\n",
              "        8090.69925091,  5775.1499768 , 17832.70308483, 34643.75095179,\n",
              "        7878.20658376, 13014.96975431, 16879.05457002,  6416.04247412,\n",
              "       32718.82714273,  6932.33525923,  5623.37018049,  7204.96268724,\n",
              "        9575.75071899,  8201.40294258, 21220.01672792, 10359.14459943,\n",
              "        6935.51244586,  9600.03386162,  7969.84374932,  8912.91761813,\n",
              "       10607.44629303,  8777.31672922,  9788.84994152, 17366.91129266,\n",
              "       12445.31454372, 10240.77632762, 15606.61000575,  6251.18995201,\n",
              "       26980.06534727, 15107.24404557, 23387.62687483,  7164.00259416,\n",
              "       15398.93727157,  6624.95512837, 13331.32702401, 10314.63518709,\n",
              "        8694.58941715,  6098.05964307, 14729.91336857, 27339.45021892,\n",
              "       11943.99299295, 21022.04308624])"
            ]
          },
          "execution_count": 45,
          "metadata": {},
          "output_type": "execute_result"
        }
      ],
      "source": [
        "\n",
        "y_pred=linreg.predict(X_test)\n",
        "y_pred"
      ]
    },
    {
      "cell_type": "code",
      "execution_count": 46,
      "metadata": {
        "colab": {
          "base_uri": "https://localhost:8080/"
        },
        "id": "rsnzRlNYLyKL",
        "outputId": "91ad2520-a3ad-4692-e52b-a8c2a7a6d984"
      },
      "outputs": [
        {
          "data": {
            "text/plain": [
              "{'Actual': array([ 5572.   , 14869.   ,  5499.   , 34184.   , 14489.   ,  6795.   ,\n",
              "        18420.   , 10595.   ,  9639.   ,  7126.   , 17859.167,  7775.   ,\n",
              "         9298.   ,  6989.   , 35550.   , 10245.   , 24565.   ,  7295.   ,\n",
              "        16430.   , 16503.   ,  9279.   ,  5195.   , 13860.   , 40960.   ,\n",
              "         8249.   , 11595.   , 18920.   ,  6669.   , 37028.   ,  6849.   ,\n",
              "         5389.   ,  6692.   ,  5118.   ,  8499.   , 23875.   ,  7898.   ,\n",
              "         7499.   ,  9549.   , 11245.   ,  7463.   ,  7295.   ,  8195.   ,\n",
              "         8495.   , 15750.   , 11694.   ,  9980.   , 16558.   ,  5348.   ,\n",
              "        28248.   , 14399.   , 31400.5  ,  7999.   , 18344.   ,  7603.   ,\n",
              "        16630.   ,  9989.   ,  8845.   ,  6229.   , 12170.   , 25552.   ,\n",
              "         9295.   , 16500.   ])}"
            ]
          },
          "execution_count": 46,
          "metadata": {},
          "output_type": "execute_result"
        }
      ],
      "source": [
        "({'Actual': y_test})"
      ]
    },
    {
      "cell_type": "code",
      "execution_count": 47,
      "metadata": {
        "colab": {
          "base_uri": "https://localhost:8080/"
        },
        "id": "gdkVk97hMNik",
        "outputId": "9636934d-9812-4db5-bf2d-88a70466cc3b"
      },
      "outputs": [
        {
          "data": {
            "text/plain": [
              "{'Predicted': array([ 6563.48656705, 10559.47348082,  7221.7237916 , 31998.51480256,\n",
              "        10805.90527161,  6134.19458892, 18525.44284176,  9301.27385844,\n",
              "        12303.66438751,  9422.3937815 , 21077.98485203, 10810.93750635,\n",
              "        11904.39226148,  8516.05184998, 31191.2628489 ,  9712.04565459,\n",
              "        19754.31768064,  9311.37219005, 15409.55467924, 18700.3980265 ,\n",
              "         8090.69925091,  5775.1499768 , 17832.70308483, 34643.75095179,\n",
              "         7878.20658376, 13014.96975431, 16879.05457002,  6416.04247412,\n",
              "        32718.82714273,  6932.33525923,  5623.37018049,  7204.96268724,\n",
              "         9575.75071899,  8201.40294258, 21220.01672792, 10359.14459943,\n",
              "         6935.51244586,  9600.03386162,  7969.84374932,  8912.91761813,\n",
              "        10607.44629303,  8777.31672922,  9788.84994152, 17366.91129266,\n",
              "        12445.31454372, 10240.77632762, 15606.61000575,  6251.18995201,\n",
              "        26980.06534727, 15107.24404557, 23387.62687483,  7164.00259416,\n",
              "        15398.93727157,  6624.95512837, 13331.32702401, 10314.63518709,\n",
              "         8694.58941715,  6098.05964307, 14729.91336857, 27339.45021892,\n",
              "        11943.99299295, 21022.04308624])}"
            ]
          },
          "execution_count": 47,
          "metadata": {},
          "output_type": "execute_result"
        }
      ],
      "source": [
        "\n",
        "({'Predicted': y_pred})"
      ]
    },
    {
      "cell_type": "markdown",
      "metadata": {
        "id": "jcDT398YIymh"
      },
      "source": [
        "rounding the values predicted:"
      ]
    },
    {
      "cell_type": "code",
      "execution_count": 48,
      "metadata": {
        "colab": {
          "base_uri": "https://localhost:8080/"
        },
        "id": "3vyst8-bMczZ",
        "outputId": "a600edad-a73e-4c70-eeb7-0041b00731a6"
      },
      "outputs": [
        {
          "data": {
            "text/plain": [
              "[array([ 6563.49, 10559.47,  7221.72, 31998.51, 10805.91,  6134.19,\n",
              "        18525.44,  9301.27, 12303.66,  9422.39, 21077.98, 10810.94,\n",
              "        11904.39,  8516.05, 31191.26,  9712.05, 19754.32,  9311.37,\n",
              "        15409.55, 18700.4 ,  8090.7 ,  5775.15, 17832.7 , 34643.75,\n",
              "         7878.21, 13014.97, 16879.05,  6416.04, 32718.83,  6932.34,\n",
              "         5623.37,  7204.96,  9575.75,  8201.4 , 21220.02, 10359.14,\n",
              "         6935.51,  9600.03,  7969.84,  8912.92, 10607.45,  8777.32,\n",
              "         9788.85, 17366.91, 12445.31, 10240.78, 15606.61,  6251.19,\n",
              "        26980.07, 15107.24, 23387.63,  7164.  , 15398.94,  6624.96,\n",
              "        13331.33, 10314.64,  8694.59,  6098.06, 14729.91, 27339.45,\n",
              "        11943.99, 21022.04])]"
            ]
          },
          "execution_count": 48,
          "metadata": {},
          "output_type": "execute_result"
        }
      ],
      "source": [
        "import math\n",
        "import numpy as np\n",
        "rounded = [np.round(y_pred,2)]\n",
        "rounded"
      ]
    },
    {
      "cell_type": "markdown",
      "metadata": {
        "id": "7YHyeKAIJBro"
      },
      "source": [
        "Applying some metrics to evaluate the model performance:"
      ]
    },
    {
      "cell_type": "code",
      "execution_count": 49,
      "metadata": {
        "colab": {
          "base_uri": "https://localhost:8080/"
        },
        "id": "lIjNiSaqMrav",
        "outputId": "b3df16b0-6324-45da-d56b-f34c1c70c6dd"
      },
      "outputs": [
        {
          "name": "stdout",
          "output_type": "stream",
          "text": [
            " R2 score of linear regression:  0.9102503038338096\n"
          ]
        }
      ],
      "source": [
        "from sklearn.metrics import r2_score \n",
        "\n",
        "# R2(coefficient of determination) regression score function.\n",
        "\n",
        "# R-squared measures the strength of the relationship between your model and the dependent variable on a convenient 0 – 100% scale\n",
        "\n",
        "print(\" R2 score of linear regression: \", r2_score(y_test, y_pred))"
      ]
    },
    {
      "cell_type": "code",
      "execution_count": 50,
      "metadata": {
        "id": "yrJdPorjNqTh"
      },
      "outputs": [],
      "source": [
        "def mean_absolute_percentage_error(y_test, y_pred): \n",
        "  y_test, y_pred = np.array(y_test), np.array(y_pred) # mae is the absolute difference between the actual or true values and the values that are predicted. \n",
        "  return np.mean(np.abs((y_test - y_pred) / y_test)) * 100    #Absolute difference means that if the result has a negative sign, it is ignored.\n",
        "  "
      ]
    },
    {
      "cell_type": "code",
      "execution_count": 51,
      "metadata": {
        "colab": {
          "base_uri": "https://localhost:8080/"
        },
        "id": "czQXbT13Nrf2",
        "outputId": "51a83717-896a-41df-b41a-5c99985c4b42"
      },
      "outputs": [
        {
          "data": {
            "text/plain": [
              "15.99988227182717"
            ]
          },
          "execution_count": 51,
          "metadata": {},
          "output_type": "execute_result"
        }
      ],
      "source": [
        "mean_absolute_percentage_error(y_test, y_pred) "
      ]
    },
    {
      "cell_type": "code",
      "execution_count": 52,
      "metadata": {
        "colab": {
          "base_uri": "https://localhost:8080/"
        },
        "id": "oVj03UsKN0b1",
        "outputId": "21939b6a-9d76-49c3-ada8-4f9464123c65"
      },
      "outputs": [
        {
          "name": "stdout",
          "output_type": "stream",
          "text": [
            "Accuracy of linear regression:  0.9102503038338096\n"
          ]
        }
      ],
      "source": [
        "print(\"Accuracy of linear regression: \",\n",
        "      \n",
        "linreg.score(X_test,y_test))"
      ]
    },
    {
      "cell_type": "code",
      "execution_count": 53,
      "metadata": {
        "colab": {
          "base_uri": "https://localhost:8080/"
        },
        "id": "u-oN8nedmXRL",
        "outputId": "58bb6c4d-3c3d-44e8-91cc-4ac0bfaa9f42"
      },
      "outputs": [
        {
          "name": "stdout",
          "output_type": "stream",
          "text": [
            "Mean squared error: 6583533.84\n"
          ]
        }
      ],
      "source": [
        "import matplotlib.pyplot as plt\n",
        "\n",
        "from sklearn.metrics import mean_squared_error # mse the average of the square of the difference between the original and predicted values of the data\n",
        "\n",
        "mse=mean_squared_error(y_test, y_pred)\n",
        "\n",
        "# The mean squared error\n",
        "print(\"Mean squared error: %.2f\" % mse)\n"
      ]
    },
    {
      "cell_type": "code",
      "execution_count": 56,
      "metadata": {
        "colab": {
          "base_uri": "https://localhost:8080/"
        },
        "id": "WkMgoEvkHwCm",
        "outputId": "aa23eb14-1e93-4ec8-cac9-5a73de8ede73"
      },
      "outputs": [
        {
          "data": {
            "text/plain": [
              "2565.8397926173766"
            ]
          },
          "execution_count": 56,
          "metadata": {},
          "output_type": "execute_result"
        }
      ],
      "source": [
        "from math import sqrt\n",
        "                              #RMSE is the standard deviation of the errors which occur when a prediction is made on a dataset. \n",
        "rmse=sqrt(mse)                #This is the same as MSE (Mean Squared Error) but the root of the value is considered while\n",
        "                              ##determining the accuracy of the moderoot_mse\n",
        "rmse                                \n"
      ]
    },
    {
      "cell_type": "markdown",
      "metadata": {
        "id": "uc4MY1yZPD9y"
      },
      "source": [
        "Plotting a line to visualize the predicted values vs the true value:"
      ]
    },
    {
      "cell_type": "code",
      "execution_count": 55,
      "metadata": {
        "colab": {
          "base_uri": "https://localhost:8080/",
          "height": 611
        },
        "id": "-l2shjzRzpie",
        "outputId": "9e8171fa-e49a-4e91-b0ff-3e937d5b156a"
      },
      "outputs": [
        {
          "data": {
            "image/png": "[encoded data removed]",
            "text/plain": [
              "<Figure size 720x720 with 1 Axes>"
            ]
          },
          "metadata": {
            "needs_background": "light"
          },
          "output_type": "display_data"
        }
      ],
      "source": [
        "plt.figure(figsize=(10,10))\n",
        "plt.scatter(y_test, y_pred ,c='crimson') # more explanation about the graph below it\n",
        "p1 = max(max(y_pred), max(y_test))\n",
        "p2 = min(min(y_pred), min(y_test))\n",
        "plt.plot([p1, p2], [p1, p2], 'b-')\n",
        "plt.xlabel('True Values', fontsize=15)\n",
        "plt.ylabel('Predictions', fontsize=15)\n",
        "plt.axis('equal')\n",
        "plt.show()\n"
      ]
    },
    {
      "cell_type": "markdown",
      "metadata": {
        "id": "SqOFxNAgTubv"
      },
      "source": [
        "From the plot we can see that the closer the points are to the line, the more accurate the model is. It can also be used to understand if the model is under or over predicting. If points are above the blue line, the model is over predicting while if the points are below the blue line, the model is under predicting."
      ]
    }
  ],
  "metadata": {
    "colab": {
      "provenance": []
    },
    "kernelspec": {
      "display_name": "Python 3",
      "name": "python3"
    },
    "language_info": {
      "name": "python"
    }
  },
  "nbformat": 4,
  "nbformat_minor": 0
}
